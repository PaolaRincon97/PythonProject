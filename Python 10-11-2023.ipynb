{
 "cells": [
  {
   "cell_type": "code",
   "execution_count": 1,
   "id": "90f58526",
   "metadata": {},
   "outputs": [],
   "source": [
    "# import all the libraries\n",
    "import numpy as np\n",
    "import pandas as pd"
   ]
  },
  {
   "cell_type": "code",
   "execution_count": 2,
   "id": "20e0947f",
   "metadata": {},
   "outputs": [
    {
     "name": "stdout",
     "output_type": "stream",
     "text": [
      "   Customer Code        Customer Name Customer Social Class  \\\n",
      "0       15637634                Mo?se              Ordinary   \n",
      "1       63217102               NZAMBE              Ordinary   \n",
      "2       17753781  milemba Ilunga jeff              Ordinary   \n",
      "3       13911112              Fabrice              Ordinary   \n",
      "4       85836298        Kwilu Jacques              Ordinary   \n",
      "\n",
      "   Customer Longitude  Latitude Client  Visiting Record Mobile Phone  \\\n",
      "0                 NaN              NaN            False   0896219721   \n",
      "1                 NaN              NaN            False   0819999999   \n",
      "2                 NaN              NaN            False   0840970557   \n",
      "3                 NaN              NaN            False   0974448599   \n",
      "4                 NaN              NaN            False   0814737951   \n",
      "\n",
      "     RANDOM  EasyPay Number          Sale Area  ... Last Open Date  \\\n",
      "0  0.878957    9.285016e+13  KINSHASA/MONTAMBA  ...            NaN   \n",
      "1  0.331696    9.285063e+13   KINSHASA/TSHANGU  ...            NaN   \n",
      "2  0.472636    9.285018e+13             KAMINA  ...            NaN   \n",
      "3  0.116404    9.285014e+13         LUBUMBASHI  ...            NaN   \n",
      "4  0.471013    9.285086e+13             KIKWIT  ...            NaN   \n",
      "\n",
      "  Basic Offer Name Outside Display Name  Total Online Days Total Stop Days  \\\n",
      "0      DTT_Classic          DTT_Classic                 30              36   \n",
      "1          DTH_MAX              DTH_MAX                 30              36   \n",
      "2          DTH_MAX              DTH_MAX                 30              36   \n",
      "3      DTT_Classic          DTT_Classic                 30              36   \n",
      "4          DTH_MAX              DTH_MAX                 30              36   \n",
      "\n",
      "             Price Plan Subscriber Agreement Type   Business Name  \\\n",
      "0  DTT_Classic(28000FC)                    Normal  Digit Business   \n",
      "1      DTH_MAX(42000FC)                    Normal  Digit Business   \n",
      "2      DTH_MAX(42000FC)                    Normal  Digit Business   \n",
      "3  DTT_Classic(28000FC)                    Normal  Digit Business   \n",
      "4      DTH_MAX(42000FC)                    Normal  Digit Business   \n",
      "\n",
      "  Expiration Date           Order Date  \n",
      "0      2022-04-05  2022-03-07 21:13:52  \n",
      "1      2022-04-05  2022-03-07 20:15:52  \n",
      "2      2022-04-05  2022-03-07 19:50:36  \n",
      "3      2022-04-05  2022-03-07 19:36:07  \n",
      "4      2022-04-05  2022-03-07 18:57:47  \n",
      "\n",
      "[5 rows x 29 columns]\n"
     ]
    }
   ],
   "source": [
    "# Load the data\n",
    "df=pd.read_excel(\"sample.xlsx\") #csv\n",
    "print(df.head())"
   ]
  },
  {
   "cell_type": "code",
   "execution_count": 3,
   "id": "e84a9181",
   "metadata": {},
   "outputs": [
    {
     "name": "stdout",
     "output_type": "stream",
     "text": [
      "<class 'pandas.core.frame.DataFrame'>\n",
      "RangeIndex: 9000 entries, 0 to 8999\n",
      "Data columns (total 29 columns):\n",
      " #   Column                              Non-Null Count  Dtype  \n",
      "---  ------                              --------------  -----  \n",
      " 0   Customer Code                       9000 non-null   int64  \n",
      " 1   Customer Name                       9000 non-null   object \n",
      " 2   Customer Social Class               9000 non-null   object \n",
      " 3   Customer Longitude                  44 non-null     float64\n",
      " 4   Latitude Client                     44 non-null     float64\n",
      " 5   Visiting Record                     9000 non-null   bool   \n",
      " 6   Mobile Phone                        9000 non-null   object \n",
      " 7   RANDOM                              9000 non-null   float64\n",
      " 8   EasyPay Number                      6667 non-null   float64\n",
      " 9   Sale Area                           9000 non-null   object \n",
      " 10  Contact Address                     8994 non-null   object \n",
      " 11  Subscriber Type                     9000 non-null   object \n",
      " 12  Subscriber Status                   9000 non-null   object \n",
      " 13  Service Number                      9000 non-null   int64  \n",
      " 14  Main Resource Specification         9000 non-null   object \n",
      " 15  STB Code                            5660 non-null   object \n",
      " 16  Subsidiary Resource  Specification  5660 non-null   object \n",
      " 17  Open Subscriber Date                9000 non-null   object \n",
      " 18  Last Stop Date                      9000 non-null   object \n",
      " 19  Last Open Date                      8100 non-null   object \n",
      " 20  Basic Offer Name                    9000 non-null   object \n",
      " 21  Outside Display Name                9000 non-null   object \n",
      " 22  Total Online Days                   9000 non-null   int64  \n",
      " 23  Total Stop Days                     9000 non-null   int64  \n",
      " 24  Price Plan                          9000 non-null   object \n",
      " 25  Subscriber Agreement Type           9000 non-null   object \n",
      " 26  Business Name                       9000 non-null   object \n",
      " 27  Expiration Date                     9000 non-null   object \n",
      " 28  Order Date                          9000 non-null   object \n",
      "dtypes: bool(1), float64(4), int64(4), object(20)\n",
      "memory usage: 1.9+ MB\n"
     ]
    }
   ],
   "source": [
    "# Columns description\n",
    "df.info()"
   ]
  },
  {
   "cell_type": "code",
   "execution_count": 4,
   "id": "9aef8af9",
   "metadata": {},
   "outputs": [],
   "source": [
    "# drop Customer Longitude    and Latitude Client and asyPay Number and Visiting Record and RANDOM   \n",
    "#Contact Address  because is too specific and it is explained with sale area\n",
    "#Subscriber Type  because is explained by suscriiber status\n",
    "#STB Code and Subsidiary resource specification will be droped because they are only for a specific device \"T2+S2\"\n",
    "#Outside Display Name to be droped as it says the same thing of Basic Offer Name\n",
    "# drop  Business Name  because is always just 1 value"
   ]
  },
  {
   "cell_type": "code",
   "execution_count": 5,
   "id": "a385c7b2",
   "metadata": {},
   "outputs": [
    {
     "name": "stdout",
     "output_type": "stream",
     "text": [
      "      Customer Code            Customer Name Customer Social Class  \\\n",
      "0          15637634                    Mo?se              Ordinary   \n",
      "1          63217102                   NZAMBE              Ordinary   \n",
      "2          17753781      milemba Ilunga jeff              Ordinary   \n",
      "3          13911112                  Fabrice              Ordinary   \n",
      "4          85836298            Kwilu Jacques              Ordinary   \n",
      "...             ...                      ...                   ...   \n",
      "8995           5706          ROSETTE MWAYUMA              Ordinary   \n",
      "8996           4383   ZUMBU DINKATU ZEPHYRIN              Ordinary   \n",
      "8997           3053        EVARISTE LUMANISA              Ordinary   \n",
      "8998           2056       MATA KIMBEME HENRY              Ordinary   \n",
      "8999           1729  KIATOKO MAMPUYA CRISPIN                  airs   \n",
      "\n",
      "     Mobile Phone          Sale Area Subscriber Status  Service Number  \\\n",
      "0      0896219721  KINSHASA/MONTAMBA       Punish Stop      2721708575   \n",
      "1      0819999999   KINSHASA/TSHANGU       Punish Stop      2577821308   \n",
      "2      0840970557             KAMINA       Punish Stop      2148580559   \n",
      "3      0974448599         LUBUMBASHI       Punish Stop      2586653305   \n",
      "4      0814737951             KIKWIT       Punish Stop      2148577961   \n",
      "...           ...                ...               ...             ...   \n",
      "8995   0852486470           KINSHASA       Punish Stop      2113407278   \n",
      "8996   0815044943           KINSHASA       Punish Stop      2113405613   \n",
      "8997   0896086982           KINSHASA       Punish Stop      2113403670   \n",
      "8998   0814529903           KINSHASA       Punish Stop      2113402906   \n",
      "8999   0998842431      KINSHASA/FUNA       Punish Stop      2113402727   \n",
      "\n",
      "     Main Resource Specification Open Subscriber Date Last Stop Date  \\\n",
      "0              Decoder T2 PTV CA  2022-03-07 21:13:52     2022-04-06   \n",
      "1              Decoder S2 PTV CA  2022-03-07 20:15:52     2022-04-06   \n",
      "2               Smart Card T2+S2  2022-03-07 19:50:36     2022-04-06   \n",
      "3              Decoder T2 PTV CA  2022-03-07 19:36:07     2022-04-06   \n",
      "4               Smart Card T2+S2  2022-03-07 18:57:47     2022-04-06   \n",
      "...                          ...                  ...            ...   \n",
      "8995               Smart Card T2  2013-08-29 13:02:40     2022-04-04   \n",
      "8996               Smart Card T2  2013-08-22 11:47:43     2022-03-27   \n",
      "8997               Smart Card T2  2013-08-15 10:58:23     2022-03-23   \n",
      "8998               Smart Card T2  2013-08-10 11:58:33     2022-04-05   \n",
      "8999               Smart Card T2  2013-08-09 09:46:42     2022-04-03   \n",
      "\n",
      "     Last Open Date Basic Offer Name  Total Online Days  Total Stop Days  \\\n",
      "0               NaN      DTT_Classic                 30               36   \n",
      "1               NaN          DTH_MAX                 30               36   \n",
      "2               NaN          DTH_MAX                 30               36   \n",
      "3               NaN      DTT_Classic                 30               36   \n",
      "4               NaN          DTH_MAX                 30               36   \n",
      "...             ...              ...                ...              ...   \n",
      "8995     2022-03-05      DTT_Classic                752              400   \n",
      "8996     2022-02-25        DTT_Basic                373             2153   \n",
      "8997     2022-03-22      DTT_Classic                  1             2471   \n",
      "8998     2022-03-06        DTT_Basic                168             1023   \n",
      "8999     2022-03-04        DTT_Basic                997              152   \n",
      "\n",
      "                Price Plan Subscriber Agreement Type Expiration Date  \\\n",
      "0     DTT_Classic(28000FC)                    Normal      2022-04-05   \n",
      "1         DTH_MAX(42000FC)                    Normal      2022-04-05   \n",
      "2         DTH_MAX(42000FC)                    Normal      2022-04-05   \n",
      "3     DTT_Classic(28000FC)                    Normal      2022-04-05   \n",
      "4         DTH_MAX(42000FC)                    Normal      2022-04-05   \n",
      "...                    ...                       ...             ...   \n",
      "8995  DTT_Classic(28000FC)                    Normal      2022-04-03   \n",
      "8996    DTT_Basic(14000FC)                    Normal      2022-03-26   \n",
      "8997  DTT_Classic(28000FC)                    Normal      2022-03-22   \n",
      "8998    DTT_Basic(14000FC)                    Normal      2022-04-04   \n",
      "8999    DTT_Basic(14000FC)                    Normal      2022-04-02   \n",
      "\n",
      "               Order Date  \n",
      "0     2022-03-07 21:13:52  \n",
      "1     2022-03-07 20:15:52  \n",
      "2     2022-03-07 19:50:36  \n",
      "3     2022-03-07 19:36:07  \n",
      "4     2022-03-07 18:57:47  \n",
      "...                   ...  \n",
      "8995  2021-07-07 08:28:50  \n",
      "8996  2021-07-08 02:24:30  \n",
      "8997  2022-03-22 22:41:14  \n",
      "8998  2022-01-03 16:16:20  \n",
      "8999  2021-08-03 11:43:54  \n",
      "\n",
      "[9000 rows x 18 columns]\n"
     ]
    }
   ],
   "source": [
    "df=df.drop(['Customer Longitude','Latitude Client','EasyPay Number','Visiting Record','RANDOM','Contact Address','Subscriber Type','STB Code','Subsidiary Resource  Specification','Outside Display Name','Business Name'],axis=1)\n",
    "print(df)"
   ]
  },
  {
   "cell_type": "code",
   "execution_count": 6,
   "id": "ea1de25b",
   "metadata": {},
   "outputs": [],
   "source": [
    "# format the date so DD-MM-YY without time\n",
    "# format Price Plan so we can have only the price value\n",
    "# all the numeric columns in the same format"
   ]
  },
  {
   "cell_type": "code",
   "execution_count": 6,
   "id": "6d32de51",
   "metadata": {},
   "outputs": [
    {
     "name": "stdout",
     "output_type": "stream",
     "text": [
      "<class 'pandas.core.frame.DataFrame'>\n",
      "RangeIndex: 9000 entries, 0 to 8999\n",
      "Data columns (total 18 columns):\n",
      " #   Column                       Non-Null Count  Dtype \n",
      "---  ------                       --------------  ----- \n",
      " 0   Customer Code                9000 non-null   int64 \n",
      " 1   Customer Name                9000 non-null   object\n",
      " 2   Customer Social Class        9000 non-null   object\n",
      " 3   Mobile Phone                 9000 non-null   object\n",
      " 4   Sale Area                    9000 non-null   object\n",
      " 5   Subscriber Status            9000 non-null   object\n",
      " 6   Service Number               9000 non-null   int64 \n",
      " 7   Main Resource Specification  9000 non-null   object\n",
      " 8   Open Subscriber Date         9000 non-null   object\n",
      " 9   Last Stop Date               9000 non-null   object\n",
      " 10  Last Open Date               8100 non-null   object\n",
      " 11  Basic Offer Name             9000 non-null   object\n",
      " 12  Total Online Days            9000 non-null   int64 \n",
      " 13  Total Stop Days              9000 non-null   int64 \n",
      " 14  Price Plan                   9000 non-null   object\n",
      " 15  Subscriber Agreement Type    9000 non-null   object\n",
      " 16  Expiration Date              9000 non-null   object\n",
      " 17  Order Date                   9000 non-null   object\n",
      "dtypes: int64(4), object(14)\n",
      "memory usage: 1.2+ MB\n"
     ]
    }
   ],
   "source": [
    "df.info()"
   ]
  },
  {
   "cell_type": "code",
   "execution_count": null,
   "id": "5d19dc0a",
   "metadata": {},
   "outputs": [],
   "source": [
    " # to be defined Last Stop Date and Last Open Date "
   ]
  },
  {
   "cell_type": "code",
   "execution_count": null,
   "id": "ec5f7b1c",
   "metadata": {},
   "outputs": [],
   "source": [
    "#Format: Paola\n",
    "\n",
    "#description of each column: Dylan\n",
    "#difference between Last Stop Date   and   Last Open Date? Dylan\n",
    "\n",
    "# 1. univariate: Basic Offer Name pie chart, Customer Social Class, Subscriber Status, Main Resource Specification, Basic Offer Name, Total Online Days, Total Stop Days  \n",
    "# heatmap for sale area: Dylan\n",
    "# 2. multivariate: correlation, violin plot, combination of 2 or more variables "
   ]
  }
 ],
 "metadata": {
  "kernelspec": {
   "display_name": "Python 3 (ipykernel)",
   "language": "python",
   "name": "python3"
  },
  "language_info": {
   "codemirror_mode": {
    "name": "ipython",
    "version": 3
   },
   "file_extension": ".py",
   "mimetype": "text/x-python",
   "name": "python",
   "nbconvert_exporter": "python",
   "pygments_lexer": "ipython3",
   "version": "3.11.4"
  }
 },
 "nbformat": 4,
 "nbformat_minor": 5
}
